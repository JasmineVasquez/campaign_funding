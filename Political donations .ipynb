{
 "cells": [
  {
   "cell_type": "code",
   "execution_count": 128,
   "metadata": {
    "collapsed": false
   },
   "outputs": [],
   "source": [
    "import pandas as pd\n",
    "import matplotlib.pyplot as plt\n",
    "from sklearn.cross_validation import train_test_split\n",
    "from sklearn.ensemble import RandomForestRegressor\n",
    "from sklearn.metrics import mean_squared_error\n",
    "import math\n",
    "\n",
    "%matplotlib inline"
   ]
  },
  {
   "cell_type": "code",
   "execution_count": 84,
   "metadata": {
    "collapsed": false
   },
   "outputs": [],
   "source": [
    "df = pd.read_csv(\"Downloads/political_donations.csv\", \n",
    "                 header=None, \n",
    "                 skiprows=1, \n",
    "                 #nrows=100, \n",
    "                 index_col=False, \n",
    "                 names=\n",
    "                [\n",
    "'cmte_id',\n",
    "'cand_id',\n",
    "'cand_nm',\n",
    "'contbr_nm', \n",
    "'contbr_city', \n",
    "'contbr_st',\n",
    "'contbr_zip',\n",
    "'contbr_employer', \n",
    "'contbr_occupation',\n",
    "'contb_receipt_amt',\n",
    "'contb_receipt_dt',\n",
    "'receipt_desc',\n",
    "'memo_cd',   \n",
    "'memo_text', \n",
    "'form_tp',\n",
    "'file_num', \n",
    "'tran_id',   \n",
    "'election_tp'\n",
    "])"
   ]
  },
  {
   "cell_type": "code",
   "execution_count": 85,
   "metadata": {
    "collapsed": false
   },
   "outputs": [
    {
     "data": {
      "text/html": [
       "<div>\n",
       "<table border=\"1\" class=\"dataframe\">\n",
       "  <thead>\n",
       "    <tr style=\"text-align: right;\">\n",
       "      <th></th>\n",
       "      <th>cmte_id</th>\n",
       "      <th>cand_id</th>\n",
       "      <th>cand_nm</th>\n",
       "      <th>contbr_nm</th>\n",
       "      <th>contbr_city</th>\n",
       "      <th>contbr_st</th>\n",
       "      <th>contbr_zip</th>\n",
       "      <th>contbr_employer</th>\n",
       "      <th>contbr_occupation</th>\n",
       "      <th>contb_receipt_amt</th>\n",
       "      <th>contb_receipt_dt</th>\n",
       "      <th>receipt_desc</th>\n",
       "      <th>memo_cd</th>\n",
       "      <th>memo_text</th>\n",
       "      <th>form_tp</th>\n",
       "      <th>file_num</th>\n",
       "      <th>tran_id</th>\n",
       "      <th>election_tp</th>\n",
       "    </tr>\n",
       "  </thead>\n",
       "  <tbody>\n",
       "    <tr>\n",
       "      <th>0</th>\n",
       "      <td>C00458844</td>\n",
       "      <td>P60006723</td>\n",
       "      <td>Rubio, Marco</td>\n",
       "      <td>BLUM, MAUREEN</td>\n",
       "      <td>WASHINGTON</td>\n",
       "      <td>20</td>\n",
       "      <td>DC</td>\n",
       "      <td>STRATEGIC COALITIONS &amp; INITIATIVES LL</td>\n",
       "      <td>OUTREACH DIRECTOR</td>\n",
       "      <td>175.0</td>\n",
       "      <td>15-MAR-16</td>\n",
       "      <td>NaN</td>\n",
       "      <td>NaN</td>\n",
       "      <td>NaN</td>\n",
       "      <td>SA17A</td>\n",
       "      <td>1082559</td>\n",
       "      <td>SA17.1152124</td>\n",
       "      <td>P2016</td>\n",
       "    </tr>\n",
       "    <tr>\n",
       "      <th>1</th>\n",
       "      <td>C00458844</td>\n",
       "      <td>P60006723</td>\n",
       "      <td>Rubio, Marco</td>\n",
       "      <td>DODSON, MARK B. MR.</td>\n",
       "      <td>ATLANTA</td>\n",
       "      <td>30</td>\n",
       "      <td>GA</td>\n",
       "      <td>MORTGAGE CAPITAL ADVISORS</td>\n",
       "      <td>PRIVATE MORTGAGE BANKING</td>\n",
       "      <td>25.0</td>\n",
       "      <td>16-MAR-16</td>\n",
       "      <td>NaN</td>\n",
       "      <td>NaN</td>\n",
       "      <td>DEBT RETIREMENT</td>\n",
       "      <td>SA17A</td>\n",
       "      <td>1082559</td>\n",
       "      <td>SA17.1153048</td>\n",
       "      <td>P2016</td>\n",
       "    </tr>\n",
       "    <tr>\n",
       "      <th>2</th>\n",
       "      <td>C00458844</td>\n",
       "      <td>P60006723</td>\n",
       "      <td>Rubio, Marco</td>\n",
       "      <td>CHILDERS, WILLIAM</td>\n",
       "      <td>DPO</td>\n",
       "      <td>AE</td>\n",
       "      <td>098309998</td>\n",
       "      <td>DIPLOMAT</td>\n",
       "      <td>US GOVERNMENT</td>\n",
       "      <td>100.0</td>\n",
       "      <td>20-FEB-16</td>\n",
       "      <td>NaN</td>\n",
       "      <td>NaN</td>\n",
       "      <td>NaN</td>\n",
       "      <td>SA17A</td>\n",
       "      <td>1056862</td>\n",
       "      <td>SA17.1020839</td>\n",
       "      <td>P2016</td>\n",
       "    </tr>\n",
       "    <tr>\n",
       "      <th>3</th>\n",
       "      <td>C00458844</td>\n",
       "      <td>P60006723</td>\n",
       "      <td>Rubio, Marco</td>\n",
       "      <td>DOHERTY, THERESA</td>\n",
       "      <td>APO</td>\n",
       "      <td>AE</td>\n",
       "      <td>097520002</td>\n",
       "      <td>DODEA/DS</td>\n",
       "      <td>TEACHER</td>\n",
       "      <td>500.0</td>\n",
       "      <td>26-JUN-15</td>\n",
       "      <td>NaN</td>\n",
       "      <td>NaN</td>\n",
       "      <td>NaN</td>\n",
       "      <td>SA17A</td>\n",
       "      <td>1029436</td>\n",
       "      <td>SA17.769700</td>\n",
       "      <td>P2016</td>\n",
       "    </tr>\n",
       "    <tr>\n",
       "      <th>4</th>\n",
       "      <td>C00458844</td>\n",
       "      <td>P60006723</td>\n",
       "      <td>Rubio, Marco</td>\n",
       "      <td>RUCINSKI, ROBERT</td>\n",
       "      <td>APO</td>\n",
       "      <td>AE</td>\n",
       "      <td>090960009</td>\n",
       "      <td>US ARMY</td>\n",
       "      <td>PHYSICIAN</td>\n",
       "      <td>200.0</td>\n",
       "      <td>10-MAR-16</td>\n",
       "      <td>NaN</td>\n",
       "      <td>NaN</td>\n",
       "      <td>NaN</td>\n",
       "      <td>SA17A</td>\n",
       "      <td>1082559</td>\n",
       "      <td>SA17.1078677</td>\n",
       "      <td>P2016</td>\n",
       "    </tr>\n",
       "  </tbody>\n",
       "</table>\n",
       "</div>"
      ],
      "text/plain": [
       "     cmte_id    cand_id       cand_nm            contbr_nm contbr_city  \\\n",
       "0  C00458844  P60006723  Rubio, Marco        BLUM, MAUREEN  WASHINGTON   \n",
       "1  C00458844  P60006723  Rubio, Marco  DODSON, MARK B. MR.     ATLANTA   \n",
       "2  C00458844  P60006723  Rubio, Marco    CHILDERS, WILLIAM         DPO   \n",
       "3  C00458844  P60006723  Rubio, Marco     DOHERTY, THERESA         APO   \n",
       "4  C00458844  P60006723  Rubio, Marco     RUCINSKI, ROBERT         APO   \n",
       "\n",
       "  contbr_st contbr_zip                        contbr_employer  \\\n",
       "0        20         DC  STRATEGIC COALITIONS & INITIATIVES LL   \n",
       "1        30         GA              MORTGAGE CAPITAL ADVISORS   \n",
       "2        AE  098309998                               DIPLOMAT   \n",
       "3        AE  097520002                               DODEA/DS   \n",
       "4        AE  090960009                                US ARMY   \n",
       "\n",
       "          contbr_occupation  contb_receipt_amt contb_receipt_dt receipt_desc  \\\n",
       "0         OUTREACH DIRECTOR              175.0        15-MAR-16          NaN   \n",
       "1  PRIVATE MORTGAGE BANKING               25.0        16-MAR-16          NaN   \n",
       "2             US GOVERNMENT              100.0        20-FEB-16          NaN   \n",
       "3                   TEACHER              500.0        26-JUN-15          NaN   \n",
       "4                 PHYSICIAN              200.0        10-MAR-16          NaN   \n",
       "\n",
       "  memo_cd        memo_text form_tp  file_num       tran_id election_tp  \n",
       "0     NaN              NaN   SA17A   1082559  SA17.1152124       P2016  \n",
       "1     NaN  DEBT RETIREMENT   SA17A   1082559  SA17.1153048       P2016  \n",
       "2     NaN              NaN   SA17A   1056862  SA17.1020839       P2016  \n",
       "3     NaN              NaN   SA17A   1029436   SA17.769700       P2016  \n",
       "4     NaN              NaN   SA17A   1082559  SA17.1078677       P2016  "
      ]
     },
     "execution_count": 85,
     "metadata": {},
     "output_type": "execute_result"
    }
   ],
   "source": [
    "df.head(5)"
   ]
  },
  {
   "cell_type": "code",
   "execution_count": 86,
   "metadata": {
    "collapsed": false
   },
   "outputs": [
    {
     "data": {
      "text/plain": [
       "(4194081, 18)"
      ]
     },
     "execution_count": 86,
     "metadata": {},
     "output_type": "execute_result"
    }
   ],
   "source": [
    "df.shape"
   ]
  },
  {
   "cell_type": "code",
   "execution_count": 91,
   "metadata": {
    "collapsed": false
   },
   "outputs": [
    {
     "data": {
      "text/html": [
       "<div>\n",
       "<table border=\"1\" class=\"dataframe\">\n",
       "  <thead>\n",
       "    <tr style=\"text-align: right;\">\n",
       "      <th></th>\n",
       "      <th>contb_receipt_amt</th>\n",
       "      <th>file_num</th>\n",
       "    </tr>\n",
       "    <tr>\n",
       "      <th>cand_nm</th>\n",
       "      <th></th>\n",
       "      <th></th>\n",
       "    </tr>\n",
       "  </thead>\n",
       "  <tbody>\n",
       "    <tr>\n",
       "      <th>Clinton, Hillary Rodham</th>\n",
       "      <td>232791964.0</td>\n",
       "      <td>1151925943930</td>\n",
       "    </tr>\n",
       "    <tr>\n",
       "      <th>Sanders, Bernard</th>\n",
       "      <td>92252526.0</td>\n",
       "      <td>2187333935568</td>\n",
       "    </tr>\n",
       "    <tr>\n",
       "      <th>Cruz, Rafael Edward 'Ted'</th>\n",
       "      <td>61790199.0</td>\n",
       "      <td>588647296304</td>\n",
       "    </tr>\n",
       "    <tr>\n",
       "      <th>Bush, Jeb</th>\n",
       "      <td>31714421.0</td>\n",
       "      <td>31050483424</td>\n",
       "    </tr>\n",
       "    <tr>\n",
       "      <th>Rubio, Marco</th>\n",
       "      <td>31316443.0</td>\n",
       "      <td>110236353568</td>\n",
       "    </tr>\n",
       "    <tr>\n",
       "      <th>Carson, Benjamin S.</th>\n",
       "      <td>26465348.0</td>\n",
       "      <td>261157274135</td>\n",
       "    </tr>\n",
       "    <tr>\n",
       "      <th>Trump, Donald J.</th>\n",
       "      <td>14541694.0</td>\n",
       "      <td>44512047870</td>\n",
       "    </tr>\n",
       "    <tr>\n",
       "      <th>Kasich, John R.</th>\n",
       "      <td>14219671.0</td>\n",
       "      <td>27140480690</td>\n",
       "    </tr>\n",
       "    <tr>\n",
       "      <th>Christie, Christopher J.</th>\n",
       "      <td>7858970.0</td>\n",
       "      <td>6370217748</td>\n",
       "    </tr>\n",
       "    <tr>\n",
       "      <th>Fiorina, Carly</th>\n",
       "      <td>6370927.0</td>\n",
       "      <td>28963284888</td>\n",
       "    </tr>\n",
       "    <tr>\n",
       "      <th>Paul, Rand</th>\n",
       "      <td>6021011.0</td>\n",
       "      <td>34161586629</td>\n",
       "    </tr>\n",
       "    <tr>\n",
       "      <th>Walker, Scott</th>\n",
       "      <td>4854222.0</td>\n",
       "      <td>7410848452</td>\n",
       "    </tr>\n",
       "    <tr>\n",
       "      <th>O'Malley, Martin Joseph</th>\n",
       "      <td>3971241.0</td>\n",
       "      <td>5445609325</td>\n",
       "    </tr>\n",
       "    <tr>\n",
       "      <th>Graham, Lindsey O.</th>\n",
       "      <td>3645764.0</td>\n",
       "      <td>4517878846</td>\n",
       "    </tr>\n",
       "    <tr>\n",
       "      <th>Huckabee, Mike</th>\n",
       "      <td>2351096.0</td>\n",
       "      <td>6784920512</td>\n",
       "    </tr>\n",
       "    <tr>\n",
       "      <th>Jindal, Bobby</th>\n",
       "      <td>1264593.0</td>\n",
       "      <td>786997884</td>\n",
       "    </tr>\n",
       "    <tr>\n",
       "      <th>Perry, James R. (Rick)</th>\n",
       "      <td>1120363.0</td>\n",
       "      <td>925732125</td>\n",
       "    </tr>\n",
       "    <tr>\n",
       "      <th>Santorum, Richard J.</th>\n",
       "      <td>1050249.0</td>\n",
       "      <td>1799823036</td>\n",
       "    </tr>\n",
       "    <tr>\n",
       "      <th>Johnson, Gary</th>\n",
       "      <td>635202.0</td>\n",
       "      <td>1312201460</td>\n",
       "    </tr>\n",
       "    <tr>\n",
       "      <th>Lessig, Lawrence</th>\n",
       "      <td>621494.0</td>\n",
       "      <td>1378488449</td>\n",
       "    </tr>\n",
       "    <tr>\n",
       "      <th>Pataki, George E.</th>\n",
       "      <td>504649.0</td>\n",
       "      <td>361335832</td>\n",
       "    </tr>\n",
       "    <tr>\n",
       "      <th>Webb, James Henry Jr.</th>\n",
       "      <td>439246.0</td>\n",
       "      <td>847665058</td>\n",
       "    </tr>\n",
       "    <tr>\n",
       "      <th>Stein, Jill</th>\n",
       "      <td>220422.0</td>\n",
       "      <td>1420662779</td>\n",
       "    </tr>\n",
       "    <tr>\n",
       "      <th>Gilmore, James S III</th>\n",
       "      <td>101111.0</td>\n",
       "      <td>83696555</td>\n",
       "    </tr>\n",
       "  </tbody>\n",
       "</table>\n",
       "</div>"
      ],
      "text/plain": [
       "                           contb_receipt_amt       file_num\n",
       "cand_nm                                                    \n",
       "Clinton, Hillary Rodham          232791964.0  1151925943930\n",
       "Sanders, Bernard                  92252526.0  2187333935568\n",
       "Cruz, Rafael Edward 'Ted'         61790199.0   588647296304\n",
       "Bush, Jeb                         31714421.0    31050483424\n",
       "Rubio, Marco                      31316443.0   110236353568\n",
       "Carson, Benjamin S.               26465348.0   261157274135\n",
       "Trump, Donald J.                  14541694.0    44512047870\n",
       "Kasich, John R.                   14219671.0    27140480690\n",
       "Christie, Christopher J.           7858970.0     6370217748\n",
       "Fiorina, Carly                     6370927.0    28963284888\n",
       "Paul, Rand                         6021011.0    34161586629\n",
       "Walker, Scott                      4854222.0     7410848452\n",
       "O'Malley, Martin Joseph            3971241.0     5445609325\n",
       "Graham, Lindsey O.                 3645764.0     4517878846\n",
       "Huckabee, Mike                     2351096.0     6784920512\n",
       "Jindal, Bobby                      1264593.0      786997884\n",
       "Perry, James R. (Rick)             1120363.0      925732125\n",
       "Santorum, Richard J.               1050249.0     1799823036\n",
       "Johnson, Gary                       635202.0     1312201460\n",
       "Lessig, Lawrence                    621494.0     1378488449\n",
       "Pataki, George E.                   504649.0      361335832\n",
       "Webb, James Henry Jr.               439246.0      847665058\n",
       "Stein, Jill                         220422.0     1420662779\n",
       "Gilmore, James S III                101111.0       83696555"
      ]
     },
     "execution_count": 91,
     "metadata": {},
     "output_type": "execute_result"
    }
   ],
   "source": [
    "df.groupby(by='cand_nm').sum().round().sort_values('contb_receipt_amt', ascending=False)"
   ]
  },
  {
   "cell_type": "code",
   "execution_count": 104,
   "metadata": {
    "collapsed": true
   },
   "outputs": [],
   "source": [
    "sum_df = df.groupby(\"cand_nm\").sum().sort_values(\"contb_receipt_amt\")"
   ]
  },
  {
   "cell_type": "code",
   "execution_count": 105,
   "metadata": {
    "collapsed": false
   },
   "outputs": [
    {
     "data": {
      "text/plain": [
       "<matplotlib.axes._subplots.AxesSubplot at 0x124ca2a90>"
      ]
     },
     "execution_count": 105,
     "metadata": {},
     "output_type": "execute_result"
    },
    {
     "data": {
      "image/png": "[encoded data removed]",
      "text/plain": [
       "<matplotlib.figure.Figure at 0x124cbf910>"
      ]
     },
     "metadata": {},
     "output_type": "display_data"
    }
   ],
   "source": [
    "sum_df[\"contb_receipt_amt\"].plot(kind=\"bar\")"
   ]
  },
  {
   "cell_type": "code",
   "execution_count": 102,
   "metadata": {
    "collapsed": true
   },
   "outputs": [],
   "source": [
    "mean_df = df.groupby(\"cand_nm\").mean().sort_values(\"contb_receipt_amt\")"
   ]
  },
  {
   "cell_type": "code",
   "execution_count": 103,
   "metadata": {
    "collapsed": false
   },
   "outputs": [
    {
     "data": {
      "text/plain": [
       "<matplotlib.axes._subplots.AxesSubplot at 0x12393d990>"
      ]
     },
     "execution_count": 103,
     "metadata": {},
     "output_type": "execute_result"
    },
    {
     "data": {
      "image/png": "[encoded data removed]",
      "text/plain": [
       "<matplotlib.figure.Figure at 0x11b229450>"
      ]
     },
     "metadata": {},
     "output_type": "display_data"
    }
   ],
   "source": [
    "mean_df[\"contb_receipt_amt\"].plot(kind=\"bar\")"
   ]
  },
  {
   "cell_type": "code",
   "execution_count": 106,
   "metadata": {
    "collapsed": true
   },
   "outputs": [],
   "source": [
    "pdf = df[[\"contbr_st\", \"contbr_occupation\", \"cand_nm\", \"contb_receipt_amt\"]]"
   ]
  },
  {
   "cell_type": "code",
   "execution_count": 109,
   "metadata": {
    "collapsed": false
   },
   "outputs": [
    {
     "data": {
      "text/html": [
       "<div>\n",
       "<table border=\"1\" class=\"dataframe\">\n",
       "  <thead>\n",
       "    <tr style=\"text-align: right;\">\n",
       "      <th></th>\n",
       "      <th>contbr_st</th>\n",
       "      <th>contbr_occupation</th>\n",
       "      <th>cand_nm</th>\n",
       "      <th>contb_receipt_amt</th>\n",
       "    </tr>\n",
       "  </thead>\n",
       "  <tbody>\n",
       "    <tr>\n",
       "      <th>0</th>\n",
       "      <td>20</td>\n",
       "      <td>OUTREACH DIRECTOR</td>\n",
       "      <td>Rubio, Marco</td>\n",
       "      <td>175.0</td>\n",
       "    </tr>\n",
       "    <tr>\n",
       "      <th>1</th>\n",
       "      <td>30</td>\n",
       "      <td>PRIVATE MORTGAGE BANKING</td>\n",
       "      <td>Rubio, Marco</td>\n",
       "      <td>25.0</td>\n",
       "    </tr>\n",
       "    <tr>\n",
       "      <th>2</th>\n",
       "      <td>AE</td>\n",
       "      <td>US GOVERNMENT</td>\n",
       "      <td>Rubio, Marco</td>\n",
       "      <td>100.0</td>\n",
       "    </tr>\n",
       "    <tr>\n",
       "      <th>3</th>\n",
       "      <td>AE</td>\n",
       "      <td>TEACHER</td>\n",
       "      <td>Rubio, Marco</td>\n",
       "      <td>500.0</td>\n",
       "    </tr>\n",
       "    <tr>\n",
       "      <th>4</th>\n",
       "      <td>AE</td>\n",
       "      <td>PHYSICIAN</td>\n",
       "      <td>Rubio, Marco</td>\n",
       "      <td>200.0</td>\n",
       "    </tr>\n",
       "  </tbody>\n",
       "</table>\n",
       "</div>"
      ],
      "text/plain": [
       "  contbr_st         contbr_occupation       cand_nm  contb_receipt_amt\n",
       "0        20         OUTREACH DIRECTOR  Rubio, Marco              175.0\n",
       "1        30  PRIVATE MORTGAGE BANKING  Rubio, Marco               25.0\n",
       "2        AE             US GOVERNMENT  Rubio, Marco              100.0\n",
       "3        AE                   TEACHER  Rubio, Marco              500.0\n",
       "4        AE                 PHYSICIAN  Rubio, Marco              200.0"
      ]
     },
     "execution_count": 109,
     "metadata": {},
     "output_type": "execute_result"
    }
   ],
   "source": [
    "pdf.head(5)"
   ]
  },
  {
   "cell_type": "code",
   "execution_count": 118,
   "metadata": {
    "collapsed": false
   },
   "outputs": [],
   "source": [
    "df[\"contbr_st\"] = df[\"contbr_st\"].astype('category')\n",
    "df[\"contbr_st\"] = df[\"contbr_st\"].cat.codes"
   ]
  },
  {
   "cell_type": "code",
   "execution_count": 119,
   "metadata": {
    "collapsed": false
   },
   "outputs": [
    {
     "data": {
      "text/plain": [
       "0           0\n",
       "1           1\n",
       "2           3\n",
       "3           3\n",
       "4           3\n",
       "5           3\n",
       "6           3\n",
       "7           3\n",
       "8           3\n",
       "9           3\n",
       "10          3\n",
       "11          3\n",
       "12          3\n",
       "13          3\n",
       "14          3\n",
       "15          3\n",
       "16          3\n",
       "17          3\n",
       "18          3\n",
       "19          3\n",
       "20          4\n",
       "21          4\n",
       "22          4\n",
       "23          4\n",
       "24          4\n",
       "25          4\n",
       "26          4\n",
       "27          4\n",
       "28          4\n",
       "29          4\n",
       "           ..\n",
       "4194051    89\n",
       "4194052    89\n",
       "4194053    89\n",
       "4194054    89\n",
       "4194055    89\n",
       "4194056    89\n",
       "4194057    89\n",
       "4194058    89\n",
       "4194059    89\n",
       "4194060    90\n",
       "4194061    90\n",
       "4194062    90\n",
       "4194063    90\n",
       "4194064    90\n",
       "4194065    90\n",
       "4194066    90\n",
       "4194067    90\n",
       "4194068    90\n",
       "4194069    90\n",
       "4194070    90\n",
       "4194071    90\n",
       "4194072    90\n",
       "4194073    90\n",
       "4194074    90\n",
       "4194075    91\n",
       "4194076    91\n",
       "4194077    91\n",
       "4194078    91\n",
       "4194079    92\n",
       "4194080    94\n",
       "Name: contbr_st, dtype: int8"
      ]
     },
     "execution_count": 119,
     "metadata": {},
     "output_type": "execute_result"
    }
   ],
   "source": [
    "df[\"contbr_st\"]"
   ]
  },
  {
   "cell_type": "code",
   "execution_count": 121,
   "metadata": {
    "collapsed": true
   },
   "outputs": [],
   "source": [
    "for column in [\"contbr_st\", \"contbr_occupation\", \"cand_nm\"]:\n",
    "    df[column] = df[column].astype('category')\n",
    "    df[column] = df[column].cat.codes"
   ]
  },
  {
   "cell_type": "code",
   "execution_count": 124,
   "metadata": {
    "collapsed": true
   },
   "outputs": [],
   "source": [
    "train, test, y_train, y_test = train_test_split(df[[\"contbr_st\", \"contbr_occupation\", \"cand_nm\"]], df[\"contb_receipt_amt\"], test_size=0.33, random_state=1)"
   ]
  },
  {
   "cell_type": "code",
   "execution_count": 126,
   "metadata": {
    "collapsed": false
   },
   "outputs": [
    {
     "data": {
      "text/plain": [
       "RandomForestRegressor(bootstrap=True, criterion='mse', max_depth=None,\n",
       "           max_features='auto', max_leaf_nodes=None, min_samples_leaf=10,\n",
       "           min_samples_split=2, min_weight_fraction_leaf=0.0,\n",
       "           n_estimators=100, n_jobs=1, oob_score=False, random_state=None,\n",
       "           verbose=0, warm_start=False)"
      ]
     },
     "execution_count": 126,
     "metadata": {},
     "output_type": "execute_result"
    }
   ],
   "source": [
    "model = RandomForestRegressor(n_estimators=100, min_samples_leaf=10)\n",
    "\n",
    "model.fit(train, y_train)"
   ]
  },
  {
   "cell_type": "code",
   "execution_count": 127,
   "metadata": {
    "collapsed": true
   },
   "outputs": [],
   "source": [
    "predictions = model.predict(test)"
   ]
  },
  {
   "cell_type": "code",
   "execution_count": 129,
   "metadata": {
    "collapsed": false
   },
   "outputs": [
    {
     "data": {
      "text/plain": [
       "58795889.360076033"
      ]
     },
     "execution_count": 129,
     "metadata": {},
     "output_type": "execute_result"
    }
   ],
   "source": [
    "mean_squared_error(predictions, y_test)"
   ]
  }
 ],
 "metadata": {
  "anaconda-cloud": {},
  "kernelspec": {
   "display_name": "Python [Root]",
   "language": "python",
   "name": "Python [Root]"
  },
  "language_info": {
   "codemirror_mode": {
    "name": "ipython",
    "version": 2
   },
   "file_extension": ".py",
   "mimetype": "text/x-python",
   "name": "python",
   "nbconvert_exporter": "python",
   "pygments_lexer": "ipython2",
   "version": "2.7.12"
  }
 },
 "nbformat": 4,
 "nbformat_minor": 0
}
